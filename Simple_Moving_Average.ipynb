{
  "nbformat": 4,
  "nbformat_minor": 0,
  "metadata": {
    "colab": {
      "name": "Simple_Moving_Average.ipynb",
      "provenance": [],
      "authorship_tag": "ABX9TyPMPZTjCC4RBQPPITDNw6rN",
      "include_colab_link": true
    },
    "kernelspec": {
      "name": "python3",
      "display_name": "Python 3"
    }
  },
  "cells": [
    {
      "cell_type": "markdown",
      "metadata": {
        "id": "view-in-github",
        "colab_type": "text"
      },
      "source": [
        "<a href=\"https://colab.research.google.com/github/Buzzrightear/CO885_dissertation/blob/master/Simple_Moving_Average.ipynb\" target=\"_parent\"><img src=\"https://colab.research.google.com/assets/colab-badge.svg\" alt=\"Open In Colab\"/></a>"
      ]
    },
    {
      "cell_type": "markdown",
      "metadata": {
        "id": "-g1aacdS5DPj"
      },
      "source": [
        "Taken from here: https://www.analyticsvidhya.com/blog/2018/02/time-series-forecasting-methods/\n",
        "\n",
        "https://towardsdatascience.com/implementing-moving-averages-in-python-1ad28e636f9d"
      ]
    },
    {
      "cell_type": "code",
      "metadata": {
        "id": "XlqzOW_349Wf"
      },
      "source": [
        "import pandas as pd\n",
        "import numpy as np\n",
        "from statsmodels.tsa.vector_ar.var_model import VAR\n",
        "from random import random\n",
        "\n",
        "import matplotlib\n",
        "matplotlib.use('Agg') #https://stackoverflow.com/questions/37604289/tkinter-tclerror-no-display-name-and-no-display-environment-variable \n",
        "import matplotlib.pyplot as plt\n",
        "import math\n",
        "from sklearn.metrics import mean_squared_error\n",
        "from sklearn.metrics import mean_absolute_error\n",
        "from math import sqrt"
      ],
      "execution_count": null,
      "outputs": []
    },
    {
      "cell_type": "code",
      "metadata": {
        "id": "mfuA9PMt48Jw"
      },
      "source": [
        "#Import data\n",
        "\n",
        "df = pd.read_csv('https://raw.githubusercontent.com/Buzzrightear/CO885_dissertation/master/wind_data_3.csv', parse_dates=['Date time']) #Read in csv to dataframe\n",
        "df=df[['Date time','Power avg']].dropna()"
      ],
      "execution_count": null,
      "outputs": []
    },
    {
      "cell_type": "code",
      "metadata": {
        "id": "txDBA_nVrn_q"
      },
      "source": [
        "# 10 minute prediction:\n",
        "\n",
        "df_training = df.head(df.shape[0]-2)\n",
        "df_test = df.tail(2)\n",
        "print(df_training.head())\n",
        "\n",
        "\n",
        "dd= np.asarray(df_training)\n",
        "\n",
        "y_hat_avg = df_test.copy()\n",
        "y_hat_avg['Non moving average'] = df_training['Power avg'].mean()\n",
        "print(\"Non moving average value is: \", df_training['Power avg'].mean())\n",
        "\n",
        "\n",
        "EPSILON = 1e-10\n",
        "#predictions = rf.predict(features.drop('Date time', axis=1)) # Each call to this function just gives a set of features (dates) as a param and returns a dataframe of 'labels' (power avg values)\n",
        "errors = abs(y_hat_avg['Non moving average'] - df_test['Power avg']) #predicted values numpy array minus actual values numpy array returns numpy array 'errors'\n",
        "  \n",
        "# MAE = mean abs error; MAX_AE = max absolute error (largest single error in prediction by rf); RMSE = Root Mean Square Error (gets rid of negatives and more sensitive to large errors than MAPE);\n",
        "# MAPE = mean absolute percentage error (MAPE is a straightforward measure of the prediction accuracy of a forecasting method, and is thus usually considered as the fairest indicator https://www.mdpi.com/2071-1050/12/6/2247/htm#B37-sustainability-12-02247)\n",
        "title='MAE:' + str(round(np.mean(errors), 2)) + \\\n",
        "        ' MAX_AE:' + str(round(np.max(abs(errors)), 2)) + \\\n",
        "        ' RMSE:' + str(round(np.sqrt(np.mean(np.square(errors))), 2)) + \\\n",
        "        ' MAPE:' + str(round(((np.mean(errors)/np.mean((abs(df_test['Power avg']+EPSILON))))*100),2)) + \"%\" # https://www.mdpi.com/2071-1050/12/6/2247/htm  Doesn't really work when you have zero values, which we do because sometimes the wind doesn't blow\n",
        "\n",
        "#Create dataframe comprising three elements: 'labels' (actual Power avg values), 'predictions' (predicted 'power avg' values), 'features' (Date time values) and then plot them\n",
        "pd.DataFrame({'Test set': df_test['Power avg'], \n",
        "                'Predictions': y_hat.naive, \n",
        "                'Date time': df_test['Date time']}).plot(title=title, x='Date time')\n",
        "print(df_test.shape[0])"
      ],
      "execution_count": null,
      "outputs": []
    }
  ]
}