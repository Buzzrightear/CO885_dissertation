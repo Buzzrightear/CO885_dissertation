{
  "nbformat": 4,
  "nbformat_minor": 0,
  "metadata": {
    "colab": {
      "name": "Simple_Moving_Average.ipynb",
      "provenance": [],
      "authorship_tag": "ABX9TyOfi+GrHtvrPhJt1C0VXNW5",
      "include_colab_link": true
    },
    "kernelspec": {
      "name": "python3",
      "display_name": "Python 3"
    }
  },
  "cells": [
    {
      "cell_type": "markdown",
      "metadata": {
        "id": "view-in-github",
        "colab_type": "text"
      },
      "source": [
        "<a href=\"https://colab.research.google.com/github/Buzzrightear/CO885_dissertation/blob/master/Simple_Moving_Average.ipynb\" target=\"_parent\"><img src=\"https://colab.research.google.com/assets/colab-badge.svg\" alt=\"Open In Colab\"/></a>"
      ]
    },
    {
      "cell_type": "code",
      "metadata": {
        "id": "txDBA_nVrn_q"
      },
      "source": [
        "import pandas as pd\n",
        "import numpy as np\n",
        "import matplotlib\n",
        "\n",
        "matplotlib.use('Agg') #https://stackoverflow.com/questions/37604289/tkinter-tclerror-no-display-name-and-no-display-environment-variable \n",
        "import matplotlib.pyplot as plt\n",
        "import math\n",
        "\n",
        "\n",
        "seedValue = 0.083\n",
        "\n",
        "\n",
        "trainingSet = [[]]\n",
        "testSet = [[]]\n",
        "\n",
        "# Create array of values for sine wave\n",
        "for i in range(200):\n",
        "    trainingSet.append([seedValue,math.sin(seedValue)])\n",
        "    seedValue += 0.1\n",
        "\n",
        "for i in range(200):\n",
        "    testSet.append([seedValue,math.sin(seedValue)])\n",
        "    seedValue += 0.1\n",
        "\n",
        "df_training = pd.DataFrame(trainingSet)\n",
        "df_test = pd.DataFrame(testSet)\n",
        "\n",
        "df_training.columns=['val1','val2']\n",
        "\n",
        "\n",
        "\n",
        "\n",
        "rolling_mean1 = df_training.val2.rolling(window=20).mean()\n",
        "rolling_mean2 = df_training.val2.rolling(window=50).mean()\n",
        "plt.plot(df_training.val1, rolling_mean1, label='rolling mean - window size: 20', color='orange')\n",
        "plt.plot(df_training.val1, rolling_mean2, label='rolling mean - window size: 50', color='red')\n",
        "plt.plot(df_training.val1, df_training.val2, label='training set', color='blue')\n",
        "\n",
        "plt.legend(loc='upper left')\n",
        "plt.show()\n"
      ],
      "execution_count": null,
      "outputs": []
    }
  ]
}