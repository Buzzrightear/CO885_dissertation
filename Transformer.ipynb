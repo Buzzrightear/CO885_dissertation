{
  "nbformat": 4,
  "nbformat_minor": 0,
  "metadata": {
    "colab": {
      "name": "Transformer",
      "provenance": [],
      "collapsed_sections": [],
      "authorship_tag": "ABX9TyNFGAZsRYT22eQzyuCOjJLA",
      "include_colab_link": true
    },
    "kernelspec": {
      "name": "python3",
      "display_name": "Python 3"
    }
  },
  "cells": [
    {
      "cell_type": "markdown",
      "metadata": {
        "id": "view-in-github",
        "colab_type": "text"
      },
      "source": [
        "<a href=\"https://colab.research.google.com/github/Buzzrightear/CO885_dissertation/blob/master/Transformer.ipynb\" target=\"_parent\"><img src=\"https://colab.research.google.com/assets/colab-badge.svg\" alt=\"Open In Colab\"/></a>"
      ]
    },
    {
      "cell_type": "code",
      "metadata": {
        "id": "TvPQVLH2omz3"
      },
      "source": [
        "#Transformer for time series\n",
        "\n",
        "import numpy as nm\n",
        "import pandas as pd\n",
        "\n",
        "print(\"Attention is all you need\")"
      ],
      "execution_count": null,
      "outputs": []
    }
  ]
}